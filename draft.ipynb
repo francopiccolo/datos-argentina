{
 "cells": [
  {
   "cell_type": "code",
   "execution_count": 4,
   "metadata": {},
   "outputs": [],
   "source": [
    "from selenium import webdriver\n",
    "import pandas as pd\n",
    "import requests"
   ]
  },
  {
   "cell_type": "code",
   "execution_count": 7,
   "metadata": {},
   "outputs": [
    {
     "name": "stderr",
     "output_type": "stream",
     "text": [
      "<ipython-input-7-5a3ae8242bdf>:1: DeprecationWarning: executable_path has been deprecated, please pass in a Service object\n",
      "  driver = webdriver.Chrome('/Users/francopiccolo/Utils/chromedriver')\n"
     ]
    }
   ],
   "source": [
    "driver = webdriver.Chrome('/Users/francopiccolo/Utils/chromedriver')"
   ]
  },
  {
   "cell_type": "code",
   "execution_count": 9,
   "metadata": {},
   "outputs": [],
   "source": [
    "driver.get(diputados_url)"
   ]
  },
  {
   "cell_type": "code",
   "execution_count": 2,
   "metadata": {},
   "outputs": [],
   "source": [
    "diputados_url = 'https://resultados.gob.ar/elecciones/3/0/1/-1/-1'\n",
    "provincia_url = 'https://resultados.gob.ar/elecciones/3/1/1/-1/-1/Buenos-Aires#agrupaciones'\n",
    "seccion_url = 'https://resultados.gob.ar/elecciones/3/25/1/-1/-1/Buenos-Aires/Secci%C3%B3n-Primera#agrupaciones'"
   ]
  },
  {
   "cell_type": "code",
   "execution_count": null,
   "metadata": {},
   "outputs": [],
   "source": [
    "<button aria-label=\"Buenos Aires Escrutado 98.17 % Bancas a repartir: 98,17 % JUNTOS Cargos15,FRENTE DE TODOS Cargos15,AVANZA LIBERTAD Cargos3,FRENTE DE IZQUIERDA Y DE TRABAJADORES - UNIDAD Cargos2,FRENTE VAMOS CON VOS Cargos0,+ VALORES Cargos0\" style=\"background-color: white; font-weight: bold; min-height: 20px; color: rgb(0, 114, 187); margin-bottom: 1rem; text-align: left;\"><span>Buenos Aires</span></button>"
   ]
  }
 ],
 "metadata": {
  "interpreter": {
   "hash": "76a5b59d517bd0f6ad9c8606b6b5c55bb0b0ba4979dbbe17a1b6fb615220ab18"
  },
  "kernelspec": {
   "display_name": "Python 3.8.5 64-bit ('base': conda)",
   "name": "python3"
  },
  "language_info": {
   "codemirror_mode": {
    "name": "ipython",
    "version": 3
   },
   "file_extension": ".py",
   "mimetype": "text/x-python",
   "name": "python",
   "nbconvert_exporter": "python",
   "pygments_lexer": "ipython3",
   "version": "3.8.5"
  },
  "orig_nbformat": 4
 },
 "nbformat": 4,
 "nbformat_minor": 2
}

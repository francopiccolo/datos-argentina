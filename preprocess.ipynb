{
 "cells": [
  {
   "cell_type": "code",
   "execution_count": 8,
   "metadata": {},
   "outputs": [],
   "source": [
    "from bs4 import BeautifulSoup\n",
    "import pandas as pd"
   ]
  },
  {
   "cell_type": "code",
   "execution_count": 12,
   "metadata": {},
   "outputs": [],
   "source": [
    "def get_soup_from_file(file_):\n",
    "    with open(file_, 'r') as f:\n",
    "        file_text = f.read()\n",
    "    return BeautifulSoup(file_text, 'html.parser')\n",
    "\n",
    "def parse_soup(soup):\n",
    "    geographies = soup.find_all('a', {'class': 'RoutedBreadcrumbs__SLink-ccRASu'})\n",
    "    parties = soup.find_all('div', {'class': 'titleNombreTerr'})\n",
    "    percentages = soup.find_all('div', {'class': 'porcAgr'})\n",
    "    votes = soup.find_all('div', {'class': 'numAgr'})\n",
    "\n",
    "    geographies = [geography.text for geography in geographies]\n",
    "    parties = [party.text for party in parties]\n",
    "    percentages = [float(percentage.text.replace(',', '.').replace('%', ''))/100 for percentage in percentages]\n",
    "    votes = [int(vote.text.replace('.', '')) for vote in votes]\n",
    "    return geographies, parties, percentages, votes\n",
    "    \n",
    "def make_dict(geographies, parties, percentages, votes):\n",
    "    for party, percentage, votes in zip(parties, percentages, votes):\n",
    "        if geographies[1] not in data:\n",
    "            data[geographies[1]] = {'total': {}}\n",
    "        \n",
    "        if len(geographies) == 2:\n",
    "            if party not in data[geographies[1]]['total']:\n",
    "                data[geographies[1]]['total'][party] = {}\n",
    "            data[geographies[1]]['total'][party]['percentage'] = percentage\n",
    "            data[geographies[1]]['total'][party]['votes'] = votes\n",
    "        else:\n",
    "            if geographies[2] not in data[geographies[1]]:\n",
    "                data[geographies[1]][geographies[2]] = {}\n",
    "            \n",
    "            if party not in data[geographies[1]][geographies[2]]:\n",
    "                data[geographies[1]][geographies[2]][party] = {}\n",
    "            \n",
    "            data[geographies[1]][geographies[2]][party]['percentage'] = percentage\n",
    "            data[geographies[1]][geographies[2]][party]['votes'] = votes\n",
    "        \n",
    "def make_df(geographies, parties, percentages, votes):\n",
    "\n",
    "    state = 'Total' if len(geographies) < 2 else geographies[1]\n",
    "    geography_l3 = 'Total' if len(geographies) < 3 else geographies[2]\n",
    "\n",
    "    return pd.DataFrame({'country': geographies[0], 'state': state,\n",
    "                    'geography_l3': geography_l3, 'party': parties, \n",
    "                    'votes': votes, 'percentage': percentages})\n",
    "\n",
    "def process_file(file_):\n",
    "    soup = get_soup_from_file(file_)\n",
    "    geographies, parties, percentages, votes = parse_soup(soup)\n",
    "    df = make_df(geographies, parties, percentages, votes)\n",
    "    return df"
   ]
  },
  {
   "cell_type": "code",
   "execution_count": 13,
   "metadata": {},
   "outputs": [],
   "source": [
    "# Elections\n",
    "df = pd.DataFrame(columns=['country', 'state', 'geography_l3', 'party', \n",
    "                          'votes', 'percentage'])\n",
    "for i in range(0, 561):\n",
    "    file_ = 'data/{}.html'.format(i)    \n",
    "    df = df.append(process_file(file_))"
   ]
  },
  {
   "cell_type": "code",
   "execution_count": 21,
   "metadata": {},
   "outputs": [],
   "source": [
    "df['party'] = df['party'].str.lower().str.capitalize()\n",
    "\n",
    "df['state'] = df['state'].replace({\n",
    "    'Ciudad Autónoma de Buenos Aires': 'CABA',\n",
    "    'Tierra del Fuego, Antártida e Islas del Atlántico Sur': 'Tierra del Fuego'})\n",
    "\n",
    "# Aliases\n",
    "aliases = {\n",
    "    'Juntos por el cambio': [\n",
    "        'Juntos',\n",
    "        'Cambia mendoza',\n",
    "        'Juntos por el cambio jxc',\n",
    "        'Juntos por entre ríos',\n",
    "        'Frente juntos por el cambio',\n",
    "        'Eco + vamos corrientes',\n",
    "        'Chaco cambia + juntos por el cambio',\n",
    "        'Juntos por el cambio +',\n",
    "        'Cambia jujuy',\n",
    "        'Juntos por el cambio chubut',\n",
    "        'Cambia neuquén',\n",
    "        'Cambia santa cruz'],\n",
    " 'Frente de todos': [\n",
    "    'Frente civico por santiago',\n",
    "    'Frente de todos - todos san juan'],\n",
    " 'Avanza libertad': ['La libertad avanza']}\n",
    "\n",
    "df['party_original'] = df['party']\n",
    "for party, _aliases in aliases.items():\n",
    "    for alias in _aliases:\n",
    "        df['party'] = df['party'].replace({alias: party})"
   ]
  },
  {
   "cell_type": "code",
   "execution_count": 22,
   "metadata": {},
   "outputs": [],
   "source": [
    "# Governors\n",
    "soup = get_soup_from_file('data/governors.html')\n",
    "\n",
    "governors = pd.DataFrame(columns=['state', 'governor', 'party', 'party_alliance'])\n",
    "governors_tables = soup.find_all('table')\n",
    "for governors_table in governors_tables:\n",
    "    governor_table_rows = governors_table.findAll('tr')\n",
    "    for row in range(1, len(governor_table_rows)):\n",
    "        governor_table_row_cells = governor_table_rows[row].findAll('td')\n",
    "        state = governor_table_row_cells[0].findAll('a')[1].text\n",
    "        governor = governor_table_row_cells[2].text\n",
    "        party = governor_table_row_cells[4].a.text\n",
    "        party_alliance = governor_table_row_cells[4].find('small')\n",
    "        if party_alliance:            \n",
    "            party_alliance = party_alliance.text\n",
    "        \n",
    "        governors = governors.append({'state': state, 'governor': governor, 'party': party, 'party_alliance': party_alliance}, ignore_index=True)"
   ]
  },
  {
   "cell_type": "code",
   "execution_count": 23,
   "metadata": {},
   "outputs": [],
   "source": [
    "governors['party_alliance'] = governors['party_alliance'].str.replace('[()]', '')\n",
    "governors['governor'] = governors['governor'].str.replace('\\\\n', '')\n",
    "governors.loc[13, 'party_alliance'] = 'Other peronismo'\n",
    "governors.loc[14, 'party_alliance'] = 'Other'\n",
    "governors.loc[20, 'party_alliance'] = 'Frente de todos'\n",
    "governors['party_alliance'] = governors['party_alliance'].str.lower().str.capitalize()\n",
    "governors['state'] = governors['state'].str.strip()\n",
    "governors['state'] = governors['state'].replace({'Ciudad Autónomade Buenos Aires': 'CABA'})\n",
    "\n",
    "governors['party_alliance_original'] = governors['party_alliance']\n",
    "\n",
    "for party in aliases:\n",
    "    for alias in aliases[party]:\n",
    "        governors['party_alliance'] = governors['party_alliance'].replace(alias, party)\n"
   ]
  },
  {
   "cell_type": "code",
   "execution_count": 24,
   "metadata": {},
   "outputs": [],
   "source": [
    "df.reset_index(drop=True, inplace=True)\n",
    "df = df.merge(governors, on='state', suffixes=('', '_wiki'))\n",
    "df.to_csv('./data/df.csv')"
   ]
  }
 ],
 "metadata": {
  "interpreter": {
   "hash": "76a5b59d517bd0f6ad9c8606b6b5c55bb0b0ba4979dbbe17a1b6fb615220ab18"
  },
  "kernelspec": {
   "display_name": "Python 3.8.5 64-bit ('base': conda)",
   "name": "python3"
  },
  "language_info": {
   "codemirror_mode": {
    "name": "ipython",
    "version": 3
   },
   "file_extension": ".py",
   "mimetype": "text/x-python",
   "name": "python",
   "nbconvert_exporter": "python",
   "pygments_lexer": "ipython3",
   "version": "3.8.5"
  },
  "orig_nbformat": 4
 },
 "nbformat": 4,
 "nbformat_minor": 2
}
